{
 "cells": [
  {
   "cell_type": "markdown",
   "metadata": {},
   "source": [
    "IMPORTING NECESSARY LIBRARIES"
   ]
  },
  {
   "cell_type": "code",
   "execution_count": 67,
   "metadata": {},
   "outputs": [],
   "source": [
    "#File handling Libraries\n",
    "import os\n",
    "import pickle\n",
    "\n",
    "#Numerical calculations\n",
    "import numpy as np\n",
    "from scipy.stats import skew\n",
    "\n",
    "#Pandas Library\n",
    "import pandas as pd\n",
    "\n",
    "#Visualization Libraries\n",
    "import matplotlib.pyplot as plt\n",
    "import seaborn as sns\n",
    "\n",
    "#warnings\n",
    "import warnings\n",
    "warnings.filterwarnings(\"ignore\")"
   ]
  },
  {
   "cell_type": "markdown",
   "metadata": {},
   "source": [
    "DATA EXTRACTION"
   ]
  },
  {
   "cell_type": "code",
   "execution_count": 153,
   "metadata": {},
   "outputs": [],
   "source": [
    "#data extraction from multiple csv files\n",
    "path = r\"C:\\Users\\abina\\Desktop\\abi\\final project files\\capstone 5\\Data\"\n",
    "\n",
    "#getting the list of files from Data folder\n",
    "file_list = os.listdir(path)\n",
    "\n",
    "#Creating a single Dataframe combining all files using list comprehension\n",
    "df = pd.concat([pd.read_csv(path+\"\\\\\"+file) for file in file_list],ignore_index=True).fillna(0)\n",
    "df.sort_values(by=[\"month\",\"town\"], inplace=True, ignore_index=True)"
   ]
  },
  {
   "cell_type": "markdown",
   "metadata": {},
   "source": [
    "DATA PRE PROCESSING"
   ]
  },
  {
   "cell_type": "code",
   "execution_count": 167,
   "metadata": {},
   "outputs": [
    {
     "data": {
      "text/html": [
       "<div>\n",
       "<style scoped>\n",
       "    .dataframe tbody tr th:only-of-type {\n",
       "        vertical-align: middle;\n",
       "    }\n",
       "\n",
       "    .dataframe tbody tr th {\n",
       "        vertical-align: top;\n",
       "    }\n",
       "\n",
       "    .dataframe thead th {\n",
       "        text-align: right;\n",
       "    }\n",
       "</style>\n",
       "<table border=\"1\" class=\"dataframe\">\n",
       "  <thead>\n",
       "    <tr style=\"text-align: right;\">\n",
       "      <th></th>\n",
       "      <th>month</th>\n",
       "      <th>town</th>\n",
       "      <th>flat_type</th>\n",
       "      <th>block</th>\n",
       "      <th>street_name</th>\n",
       "      <th>storey_range</th>\n",
       "      <th>floor_area_sqm</th>\n",
       "      <th>flat_model</th>\n",
       "      <th>lease_commence_date</th>\n",
       "      <th>resale_price</th>\n",
       "      <th>remaining_lease</th>\n",
       "    </tr>\n",
       "  </thead>\n",
       "  <tbody>\n",
       "    <tr>\n",
       "      <th>0</th>\n",
       "      <td>1990-01</td>\n",
       "      <td>ANG MO KIO</td>\n",
       "      <td>1 ROOM</td>\n",
       "      <td>309</td>\n",
       "      <td>ANG MO KIO AVE 1</td>\n",
       "      <td>10 TO 12</td>\n",
       "      <td>31.0</td>\n",
       "      <td>IMPROVED</td>\n",
       "      <td>1977</td>\n",
       "      <td>9000.0</td>\n",
       "      <td>0</td>\n",
       "    </tr>\n",
       "    <tr>\n",
       "      <th>1</th>\n",
       "      <td>1990-01</td>\n",
       "      <td>ANG MO KIO</td>\n",
       "      <td>1 ROOM</td>\n",
       "      <td>309</td>\n",
       "      <td>ANG MO KIO AVE 1</td>\n",
       "      <td>04 TO 06</td>\n",
       "      <td>31.0</td>\n",
       "      <td>IMPROVED</td>\n",
       "      <td>1977</td>\n",
       "      <td>6000.0</td>\n",
       "      <td>0</td>\n",
       "    </tr>\n",
       "  </tbody>\n",
       "</table>\n",
       "</div>"
      ],
      "text/plain": [
       "     month        town flat_type block       street_name storey_range  \\\n",
       "0  1990-01  ANG MO KIO    1 ROOM   309  ANG MO KIO AVE 1     10 TO 12   \n",
       "1  1990-01  ANG MO KIO    1 ROOM   309  ANG MO KIO AVE 1     04 TO 06   \n",
       "\n",
       "   floor_area_sqm flat_model  lease_commence_date  resale_price  \\\n",
       "0            31.0   IMPROVED                 1977        9000.0   \n",
       "1            31.0   IMPROVED                 1977        6000.0   \n",
       "\n",
       "  remaining_lease  \n",
       "0               0  \n",
       "1               0  "
      ]
     },
     "execution_count": 167,
     "metadata": {},
     "output_type": "execute_result"
    }
   ],
   "source": [
    "df.head(2)"
   ]
  },
  {
   "cell_type": "code",
   "execution_count": 168,
   "metadata": {},
   "outputs": [
    {
     "data": {
      "text/plain": [
       "(927769, 11)"
      ]
     },
     "execution_count": 168,
     "metadata": {},
     "output_type": "execute_result"
    }
   ],
   "source": [
    "df.shape"
   ]
  },
  {
   "cell_type": "code",
   "execution_count": 169,
   "metadata": {},
   "outputs": [
    {
     "name": "stdout",
     "output_type": "stream",
     "text": [
      "<class 'pandas.core.frame.DataFrame'>\n",
      "RangeIndex: 927769 entries, 0 to 927768\n",
      "Data columns (total 11 columns):\n",
      " #   Column               Non-Null Count   Dtype  \n",
      "---  ------               --------------   -----  \n",
      " 0   month                927769 non-null  object \n",
      " 1   town                 927769 non-null  object \n",
      " 2   flat_type            927769 non-null  object \n",
      " 3   block                927769 non-null  object \n",
      " 4   street_name          927769 non-null  object \n",
      " 5   storey_range         927769 non-null  object \n",
      " 6   floor_area_sqm       927769 non-null  float64\n",
      " 7   flat_model           927769 non-null  object \n",
      " 8   lease_commence_date  927769 non-null  int64  \n",
      " 9   resale_price         927769 non-null  float64\n",
      " 10  remaining_lease      927769 non-null  object \n",
      "dtypes: float64(2), int64(1), object(8)\n",
      "memory usage: 77.9+ MB\n"
     ]
    }
   ],
   "source": [
    "df.info()"
   ]
  },
  {
   "cell_type": "code",
   "execution_count": 170,
   "metadata": {},
   "outputs": [
    {
     "data": {
      "text/plain": [
       "month                  1899\n",
       "town                   1899\n",
       "flat_type              1899\n",
       "block                  1899\n",
       "street_name            1899\n",
       "storey_range           1899\n",
       "floor_area_sqm         1899\n",
       "flat_model             1899\n",
       "lease_commence_date    1899\n",
       "resale_price           1899\n",
       "remaining_lease        1899\n",
       "dtype: int64"
      ]
     },
     "execution_count": 170,
     "metadata": {},
     "output_type": "execute_result"
    }
   ],
   "source": [
    "df[df.duplicated()].count()"
   ]
  },
  {
   "cell_type": "code",
   "execution_count": 171,
   "metadata": {},
   "outputs": [],
   "source": [
    "df.drop_duplicates(inplace=True,ignore_index=True)"
   ]
  },
  {
   "cell_type": "code",
   "execution_count": 172,
   "metadata": {},
   "outputs": [
    {
     "data": {
      "text/plain": [
       "(925870, 11)"
      ]
     },
     "execution_count": 172,
     "metadata": {},
     "output_type": "execute_result"
    }
   ],
   "source": [
    "df.shape"
   ]
  },
  {
   "cell_type": "code",
   "execution_count": 173,
   "metadata": {},
   "outputs": [],
   "source": [
    "#type-casting month column to datetime dtype\n",
    "df['month']=pd.to_datetime(df['month'],format=\"%Y-%m\")"
   ]
  },
  {
   "cell_type": "code",
   "execution_count": 174,
   "metadata": {},
   "outputs": [],
   "source": [
    "#split the month column by year and month\n",
    "df['year']=df['month'].dt.year\n",
    "df['month']=df['month'].dt.month"
   ]
  },
  {
   "cell_type": "markdown",
   "metadata": {},
   "source": [
    "EXPLORATORY DATA ANALYSIS"
   ]
  },
  {
   "cell_type": "code",
   "execution_count": 78,
   "metadata": {},
   "outputs": [
    {
     "name": "stdout",
     "output_type": "stream",
     "text": [
      "Skewness of:\n",
      "\n",
      "Floor area: 0.3657360333754773\n",
      "Resale price: 0.9432643436589611\n"
     ]
    }
   ],
   "source": [
    "#Calculating the skewness of continuous variables\n",
    "print(\"Skewness of:\\n\")\n",
    "area = skew(df['floor_area_sqm'])\n",
    "price = skew(df['resale_price'])\n",
    "print(\"Floor area:\", area)\n",
    "print(\"Resale price:\", price)"
   ]
  },
  {
   "cell_type": "code",
   "execution_count": 79,
   "metadata": {},
   "outputs": [
    {
     "data": {
      "image/png": "[encoded data removed]",
      "text/plain": [
       "<Figure size 1200x600 with 3 Axes>"
      ]
     },
     "metadata": {},
     "output_type": "display_data"
    }
   ],
   "source": [
    "#Kernel Density plots\n",
    "plt.figure(figsize=(12, 6))\n",
    "plt.title(\"Kernel Density Plot\")\n",
    "\n",
    "plt.subplot(121)\n",
    "sns.kdeplot(df['floor_area_sqm'])\n",
    "\n",
    "plt.subplot(122)\n",
    "sns.kdeplot(df['resale_price'])\n",
    "\n",
    "plt.tight_layout()\n",
    "plt.show()"
   ]
  },
  {
   "cell_type": "code",
   "execution_count": 80,
   "metadata": {},
   "outputs": [
    {
     "data": {
      "image/png": "[encoded data removed]",
      "text/plain": [
       "<Figure size 640x480 with 2 Axes>"
      ]
     },
     "metadata": {},
     "output_type": "display_data"
    }
   ],
   "source": [
    "#Heatmap for Floor area and resale price\n",
    "correlation_matrix = df[['floor_area_sqm','resale_price']].corr()\n",
    "\n",
    "sns.heatmap(correlation_matrix, annot=True, cmap='coolwarm')\n",
    "plt.show()"
   ]
  },
  {
   "cell_type": "markdown",
   "metadata": {},
   "source": [
    "FEATURE ENGINEERING"
   ]
  },
  {
   "cell_type": "code",
   "execution_count": 175,
   "metadata": {},
   "outputs": [],
   "source": [
    "df1 = df.copy()"
   ]
  },
  {
   "cell_type": "code",
   "execution_count": 176,
   "metadata": {},
   "outputs": [],
   "source": [
    "df1.drop(columns=['month','block','street_name','remaining_lease'],inplace=True)"
   ]
  },
  {
   "cell_type": "code",
   "execution_count": 177,
   "metadata": {},
   "outputs": [
    {
     "data": {
      "text/plain": [
       "(925870, 8)"
      ]
     },
     "execution_count": 177,
     "metadata": {},
     "output_type": "execute_result"
    }
   ],
   "source": [
    "df1.shape"
   ]
  },
  {
   "cell_type": "code",
   "execution_count": 178,
   "metadata": {},
   "outputs": [
    {
     "data": {
      "text/plain": [
       "town                     27\n",
       "flat_type                 8\n",
       "storey_range             25\n",
       "floor_area_sqm          212\n",
       "flat_model               34\n",
       "lease_commence_date      55\n",
       "resale_price           9529\n",
       "year                     35\n",
       "dtype: int64"
      ]
     },
     "execution_count": 178,
     "metadata": {},
     "output_type": "execute_result"
    }
   ],
   "source": [
    "df1.nunique()"
   ]
  },
  {
   "cell_type": "code",
   "execution_count": 179,
   "metadata": {},
   "outputs": [
    {
     "data": {
      "text/plain": [
       "array(['1 ROOM', '3 ROOM', '4 ROOM', '5 ROOM', '2 ROOM', 'EXECUTIVE',\n",
       "       'MULTI GENERATION', 'MULTI-GENERATION'], dtype=object)"
      ]
     },
     "execution_count": 179,
     "metadata": {},
     "output_type": "execute_result"
    }
   ],
   "source": [
    "df1.flat_type.unique()"
   ]
  },
  {
   "cell_type": "code",
   "execution_count": 180,
   "metadata": {},
   "outputs": [],
   "source": [
    "df1.loc[df1['flat_type'].str.contains('MULTI GENERATION'), 'flat_type'] = 'MULTI-GENERATION'"
   ]
  },
  {
   "cell_type": "code",
   "execution_count": 181,
   "metadata": {},
   "outputs": [
    {
     "data": {
      "text/plain": [
       "array(['1 ROOM', '3 ROOM', '4 ROOM', '5 ROOM', '2 ROOM', 'EXECUTIVE',\n",
       "       'MULTI-GENERATION'], dtype=object)"
      ]
     },
     "execution_count": 181,
     "metadata": {},
     "output_type": "execute_result"
    }
   ],
   "source": [
    "df1.flat_type.unique()"
   ]
  },
  {
   "cell_type": "code",
   "execution_count": 182,
   "metadata": {},
   "outputs": [
    {
     "data": {
      "text/plain": [
       "array(['IMPROVED', 'NEW GENERATION', 'MODEL A', 'STANDARD', 'SIMPLIFIED',\n",
       "       'MODEL A-MAISONETTE', 'APARTMENT', 'MAISONETTE', 'TERRACE',\n",
       "       '2-ROOM', 'IMPROVED-MAISONETTE', 'MULTI GENERATION',\n",
       "       'PREMIUM APARTMENT', 'Improved', 'New Generation', 'Model A',\n",
       "       'Standard', 'Apartment', 'Simplified', 'Model A-Maisonette',\n",
       "       'Maisonette', 'Multi Generation', 'Adjoined flat',\n",
       "       'Premium Apartment', 'Terrace', 'Improved-Maisonette',\n",
       "       'Premium Maisonette', '2-room', 'Model A2', 'DBSS', 'Type S1',\n",
       "       'Type S2', 'Premium Apartment Loft', '3Gen'], dtype=object)"
      ]
     },
     "execution_count": 182,
     "metadata": {},
     "output_type": "execute_result"
    }
   ],
   "source": [
    "df1.flat_model.unique()"
   ]
  },
  {
   "cell_type": "code",
   "execution_count": 183,
   "metadata": {},
   "outputs": [],
   "source": [
    "df1['flat_model'] = df1['flat_model'].str.title()"
   ]
  },
  {
   "cell_type": "code",
   "execution_count": 184,
   "metadata": {},
   "outputs": [
    {
     "data": {
      "text/plain": [
       "array(['Improved', 'New Generation', 'Model A', 'Standard', 'Simplified',\n",
       "       'Model A-Maisonette', 'Apartment', 'Maisonette', 'Terrace',\n",
       "       '2-Room', 'Improved-Maisonette', 'Multi Generation',\n",
       "       'Premium Apartment', 'Adjoined Flat', 'Premium Maisonette',\n",
       "       'Model A2', 'Dbss', 'Type S1', 'Type S2', 'Premium Apartment Loft',\n",
       "       '3Gen'], dtype=object)"
      ]
     },
     "execution_count": 184,
     "metadata": {},
     "output_type": "execute_result"
    }
   ],
   "source": [
    "df1.flat_model.unique()"
   ]
  },
  {
   "cell_type": "code",
   "execution_count": 185,
   "metadata": {},
   "outputs": [
    {
     "data": {
      "text/plain": [
       "town                     27\n",
       "flat_type                 7\n",
       "storey_range             25\n",
       "floor_area_sqm          212\n",
       "flat_model               21\n",
       "lease_commence_date      55\n",
       "resale_price           9529\n",
       "year                     35\n",
       "dtype: int64"
      ]
     },
     "execution_count": 185,
     "metadata": {},
     "output_type": "execute_result"
    }
   ],
   "source": [
    "df1.nunique()"
   ]
  },
  {
   "cell_type": "code",
   "execution_count": 186,
   "metadata": {},
   "outputs": [
    {
     "name": "stdout",
     "output_type": "stream",
     "text": [
      "<class 'pandas.core.frame.DataFrame'>\n",
      "RangeIndex: 925870 entries, 0 to 925869\n",
      "Data columns (total 8 columns):\n",
      " #   Column               Non-Null Count   Dtype  \n",
      "---  ------               --------------   -----  \n",
      " 0   town                 925870 non-null  object \n",
      " 1   flat_type            925870 non-null  object \n",
      " 2   storey_range         925870 non-null  object \n",
      " 3   floor_area_sqm       925870 non-null  float64\n",
      " 4   flat_model           925870 non-null  object \n",
      " 5   lease_commence_date  925870 non-null  int64  \n",
      " 6   resale_price         925870 non-null  float64\n",
      " 7   year                 925870 non-null  int32  \n",
      "dtypes: float64(2), int32(1), int64(1), object(4)\n",
      "memory usage: 53.0+ MB\n"
     ]
    }
   ],
   "source": [
    "df1.info()"
   ]
  },
  {
   "cell_type": "code",
   "execution_count": 187,
   "metadata": {},
   "outputs": [
    {
     "data": {
      "text/html": [
       "<div>\n",
       "<style scoped>\n",
       "    .dataframe tbody tr th:only-of-type {\n",
       "        vertical-align: middle;\n",
       "    }\n",
       "\n",
       "    .dataframe tbody tr th {\n",
       "        vertical-align: top;\n",
       "    }\n",
       "\n",
       "    .dataframe thead th {\n",
       "        text-align: right;\n",
       "    }\n",
       "</style>\n",
       "<table border=\"1\" class=\"dataframe\">\n",
       "  <thead>\n",
       "    <tr style=\"text-align: right;\">\n",
       "      <th></th>\n",
       "      <th>town</th>\n",
       "      <th>flat_type</th>\n",
       "      <th>storey_range</th>\n",
       "      <th>floor_area_sqm</th>\n",
       "      <th>flat_model</th>\n",
       "      <th>lease_commence_date</th>\n",
       "      <th>resale_price</th>\n",
       "      <th>year</th>\n",
       "    </tr>\n",
       "  </thead>\n",
       "  <tbody>\n",
       "    <tr>\n",
       "      <th>0</th>\n",
       "      <td>ANG MO KIO</td>\n",
       "      <td>1 ROOM</td>\n",
       "      <td>10 TO 12</td>\n",
       "      <td>31.0</td>\n",
       "      <td>Improved</td>\n",
       "      <td>1977</td>\n",
       "      <td>9000.0</td>\n",
       "      <td>1990</td>\n",
       "    </tr>\n",
       "    <tr>\n",
       "      <th>1</th>\n",
       "      <td>ANG MO KIO</td>\n",
       "      <td>1 ROOM</td>\n",
       "      <td>04 TO 06</td>\n",
       "      <td>31.0</td>\n",
       "      <td>Improved</td>\n",
       "      <td>1977</td>\n",
       "      <td>6000.0</td>\n",
       "      <td>1990</td>\n",
       "    </tr>\n",
       "  </tbody>\n",
       "</table>\n",
       "</div>"
      ],
      "text/plain": [
       "         town flat_type storey_range  floor_area_sqm flat_model  \\\n",
       "0  ANG MO KIO    1 ROOM     10 TO 12            31.0   Improved   \n",
       "1  ANG MO KIO    1 ROOM     04 TO 06            31.0   Improved   \n",
       "\n",
       "   lease_commence_date  resale_price  year  \n",
       "0                 1977        9000.0  1990  \n",
       "1                 1977        6000.0  1990  "
      ]
     },
     "execution_count": 187,
     "metadata": {},
     "output_type": "execute_result"
    }
   ],
   "source": [
    "df1.head(2)"
   ]
  },
  {
   "cell_type": "markdown",
   "metadata": {},
   "source": [
    "ENCODING"
   ]
  },
  {
   "cell_type": "code",
   "execution_count": 188,
   "metadata": {},
   "outputs": [],
   "source": [
    "from sklearn.preprocessing import OneHotEncoder\n",
    "\n",
    "categorical_columns = df1.select_dtypes(include=['object']).columns.tolist()\n",
    "\n",
    "ohe = OneHotEncoder(sparse_output=False)\n",
    "\n",
    "one_hot_encoded = ohe.fit_transform(df1[categorical_columns])\n",
    "\n",
    "df_ohe = pd.DataFrame(one_hot_encoded, columns=ohe.get_feature_names_out(categorical_columns))\n",
    "\n",
    "df_encoded = pd.concat([df1, df_ohe], axis=1)\n",
    "\n",
    "df_encoded = df_encoded.drop(categorical_columns, axis=1)"
   ]
  },
  {
   "cell_type": "code",
   "execution_count": 191,
   "metadata": {},
   "outputs": [
    {
     "data": {
      "text/plain": [
       "(925870, 84)"
      ]
     },
     "execution_count": 191,
     "metadata": {},
     "output_type": "execute_result"
    }
   ],
   "source": [
    "df_encoded.shape"
   ]
  },
  {
   "cell_type": "code",
   "execution_count": 192,
   "metadata": {},
   "outputs": [
    {
     "data": {
      "text/html": [
       "<div>\n",
       "<style scoped>\n",
       "    .dataframe tbody tr th:only-of-type {\n",
       "        vertical-align: middle;\n",
       "    }\n",
       "\n",
       "    .dataframe tbody tr th {\n",
       "        vertical-align: top;\n",
       "    }\n",
       "\n",
       "    .dataframe thead th {\n",
       "        text-align: right;\n",
       "    }\n",
       "</style>\n",
       "<table border=\"1\" class=\"dataframe\">\n",
       "  <thead>\n",
       "    <tr style=\"text-align: right;\">\n",
       "      <th></th>\n",
       "      <th>floor_area_sqm</th>\n",
       "      <th>lease_commence_date</th>\n",
       "      <th>resale_price</th>\n",
       "      <th>year</th>\n",
       "      <th>town_ANG MO KIO</th>\n",
       "      <th>town_BEDOK</th>\n",
       "      <th>town_BISHAN</th>\n",
       "      <th>town_BUKIT BATOK</th>\n",
       "      <th>town_BUKIT MERAH</th>\n",
       "      <th>town_BUKIT PANJANG</th>\n",
       "      <th>...</th>\n",
       "      <th>flat_model_Multi Generation</th>\n",
       "      <th>flat_model_New Generation</th>\n",
       "      <th>flat_model_Premium Apartment</th>\n",
       "      <th>flat_model_Premium Apartment Loft</th>\n",
       "      <th>flat_model_Premium Maisonette</th>\n",
       "      <th>flat_model_Simplified</th>\n",
       "      <th>flat_model_Standard</th>\n",
       "      <th>flat_model_Terrace</th>\n",
       "      <th>flat_model_Type S1</th>\n",
       "      <th>flat_model_Type S2</th>\n",
       "    </tr>\n",
       "  </thead>\n",
       "  <tbody>\n",
       "    <tr>\n",
       "      <th>0</th>\n",
       "      <td>31.0</td>\n",
       "      <td>1977</td>\n",
       "      <td>9000.0</td>\n",
       "      <td>1990</td>\n",
       "      <td>1.0</td>\n",
       "      <td>0.0</td>\n",
       "      <td>0.0</td>\n",
       "      <td>0.0</td>\n",
       "      <td>0.0</td>\n",
       "      <td>0.0</td>\n",
       "      <td>...</td>\n",
       "      <td>0.0</td>\n",
       "      <td>0.0</td>\n",
       "      <td>0.0</td>\n",
       "      <td>0.0</td>\n",
       "      <td>0.0</td>\n",
       "      <td>0.0</td>\n",
       "      <td>0.0</td>\n",
       "      <td>0.0</td>\n",
       "      <td>0.0</td>\n",
       "      <td>0.0</td>\n",
       "    </tr>\n",
       "    <tr>\n",
       "      <th>1</th>\n",
       "      <td>31.0</td>\n",
       "      <td>1977</td>\n",
       "      <td>6000.0</td>\n",
       "      <td>1990</td>\n",
       "      <td>1.0</td>\n",
       "      <td>0.0</td>\n",
       "      <td>0.0</td>\n",
       "      <td>0.0</td>\n",
       "      <td>0.0</td>\n",
       "      <td>0.0</td>\n",
       "      <td>...</td>\n",
       "      <td>0.0</td>\n",
       "      <td>0.0</td>\n",
       "      <td>0.0</td>\n",
       "      <td>0.0</td>\n",
       "      <td>0.0</td>\n",
       "      <td>0.0</td>\n",
       "      <td>0.0</td>\n",
       "      <td>0.0</td>\n",
       "      <td>0.0</td>\n",
       "      <td>0.0</td>\n",
       "    </tr>\n",
       "  </tbody>\n",
       "</table>\n",
       "<p>2 rows × 84 columns</p>\n",
       "</div>"
      ],
      "text/plain": [
       "   floor_area_sqm  lease_commence_date  resale_price  year  town_ANG MO KIO  \\\n",
       "0            31.0                 1977        9000.0  1990              1.0   \n",
       "1            31.0                 1977        6000.0  1990              1.0   \n",
       "\n",
       "   town_BEDOK  town_BISHAN  town_BUKIT BATOK  town_BUKIT MERAH  \\\n",
       "0         0.0          0.0               0.0               0.0   \n",
       "1         0.0          0.0               0.0               0.0   \n",
       "\n",
       "   town_BUKIT PANJANG  ...  flat_model_Multi Generation  \\\n",
       "0                 0.0  ...                          0.0   \n",
       "1                 0.0  ...                          0.0   \n",
       "\n",
       "   flat_model_New Generation  flat_model_Premium Apartment  \\\n",
       "0                        0.0                           0.0   \n",
       "1                        0.0                           0.0   \n",
       "\n",
       "   flat_model_Premium Apartment Loft  flat_model_Premium Maisonette  \\\n",
       "0                                0.0                            0.0   \n",
       "1                                0.0                            0.0   \n",
       "\n",
       "   flat_model_Simplified  flat_model_Standard  flat_model_Terrace  \\\n",
       "0                    0.0                  0.0                 0.0   \n",
       "1                    0.0                  0.0                 0.0   \n",
       "\n",
       "   flat_model_Type S1  flat_model_Type S2  \n",
       "0                 0.0                 0.0  \n",
       "1                 0.0                 0.0  \n",
       "\n",
       "[2 rows x 84 columns]"
      ]
     },
     "execution_count": 192,
     "metadata": {},
     "output_type": "execute_result"
    }
   ],
   "source": [
    "df_encoded.head(2)"
   ]
  },
  {
   "cell_type": "markdown",
   "metadata": {},
   "source": [
    "MODEL SELECTION"
   ]
  },
  {
   "cell_type": "code",
   "execution_count": 193,
   "metadata": {},
   "outputs": [],
   "source": [
    "df_r = df_encoded.copy()"
   ]
  },
  {
   "cell_type": "code",
   "execution_count": 91,
   "metadata": {},
   "outputs": [],
   "source": [
    "from sklearn.model_selection import train_test_split\n",
    "from sklearn.preprocessing import StandardScaler\n",
    "from sklearn.metrics import mean_squared_error, r2_score\n",
    "from sklearn.linear_model import LinearRegression\n",
    "from sklearn.tree import DecisionTreeRegressor\n",
    "from sklearn.ensemble import RandomForestRegressor\n",
    "from sklearn.ensemble import AdaBoostRegressor\n",
    "from sklearn.ensemble import ExtraTreesRegressor\n",
    "from sklearn.ensemble import GradientBoostingRegressor\n",
    "from xgboost import XGBRegressor"
   ]
  },
  {
   "cell_type": "code",
   "execution_count": 92,
   "metadata": {},
   "outputs": [],
   "source": [
    "def model_evaluation(df,model):\n",
    "    X= df.drop(columns=['resale_price'])\n",
    "    y= df['resale_price']\n",
    "\n",
    "    scaler = StandardScaler()\n",
    "    X = scaler.fit_transform(X)\n",
    "\n",
    "    X_train, X_test, y_train, y_test = train_test_split(X, y, test_size=0.2, random_state=0)\n",
    "\n",
    "    model1 = model()\n",
    "    model1.fit(X_train,y_train)\n",
    "    y_pred = model1.predict(X_test)\n",
    "\n",
    "    mse = mean_squared_error(y_test, y_pred)\n",
    "    rmse = np.sqrt(mse)\n",
    "    r2 = r2_score(y_test, y_pred)\n",
    "\n",
    "    print(f\"Name: {model.__name__} // Root Mean Squared Error: {rmse:.2f} // R-squared (R2): {r2:.3f}\")\n",
    "\n",
    "    #Saving the model\n",
    "    model_name = model.__name__\n",
    "    with open(f'{model_name}.pkl', 'wb') as file:\n",
    "        pickle.dump(model1, file)\n"
   ]
  },
  {
   "cell_type": "code",
   "execution_count": 93,
   "metadata": {},
   "outputs": [
    {
     "name": "stdout",
     "output_type": "stream",
     "text": [
      "Name: LinearRegression // Root Mean Squared Error: 63771.03 // R-squared (R2): 0.859\n",
      "Name: DecisionTreeRegressor // Root Mean Squared Error: 30534.61 // R-squared (R2): 0.968\n",
      "Name: RandomForestRegressor // Root Mean Squared Error: 26732.30 // R-squared (R2): 0.975\n",
      "Name: AdaBoostRegressor // Root Mean Squared Error: 122391.57 // R-squared (R2): 0.482\n",
      "Name: ExtraTreesRegressor // Root Mean Squared Error: 28030.89 // R-squared (R2): 0.973\n",
      "Name: GradientBoostingRegressor // Root Mean Squared Error: 49245.34 // R-squared (R2): 0.916\n",
      "Name: XGBRegressor // Root Mean Squared Error: 28924.32 // R-squared (R2): 0.971\n"
     ]
    }
   ],
   "source": [
    "model_evaluation(df_r, LinearRegression)\n",
    "model_evaluation(df_r, DecisionTreeRegressor)\n",
    "model_evaluation(df_r, RandomForestRegressor)\n",
    "model_evaluation(df_r, AdaBoostRegressor)\n",
    "model_evaluation(df_r, ExtraTreesRegressor)\n",
    "model_evaluation(df_r, GradientBoostingRegressor)\n",
    "model_evaluation(df_r, XGBRegressor)"
   ]
  },
  {
   "cell_type": "markdown",
   "metadata": {},
   "source": [
    "RESALE PRICE PREDICTION USING USER DATA"
   ]
  },
  {
   "cell_type": "code",
   "execution_count": 207,
   "metadata": {},
   "outputs": [],
   "source": [
    "X= df_r.drop(columns=['resale_price'])\n",
    "\n",
    "scaler = StandardScaler()\n",
    "X = scaler.fit_transform(X)"
   ]
  },
  {
   "cell_type": "markdown",
   "metadata": {},
   "source": [
    "**Selecting Random Forest Regressor model for resale price prediction as that gives the highest accuracy**"
   ]
  },
  {
   "cell_type": "code",
   "execution_count": 201,
   "metadata": {},
   "outputs": [],
   "source": [
    "with open(\"RandomForestRegressor.pkl\", 'rb') as file:\n",
    "    model = pickle.load(file)"
   ]
  },
  {
   "cell_type": "code",
   "execution_count": 206,
   "metadata": {},
   "outputs": [
    {
     "name": "stdout",
     "output_type": "stream",
     "text": [
      "Predicted resale price: 266293.96 SGD\n"
     ]
    }
   ],
   "source": [
    "#predicting user data\n",
    "#floor_area_sqm, lease_commence_date, year, town, flat_type, storey_range, flat_model\n",
    "user_data= np.array([[45.0,1978,2022,'ANG MO KIO','2 ROOM','10 TO 12','Improved']])\n",
    "user_data_ohe = ohe.transform(user_data[:, [3,4,5,6]])\n",
    "user_data = np.concatenate((user_data[:, [0,1,2]], user_data_ohe), axis=1)\n",
    "user_data1 = scaler.transform(user_data)\n",
    "pred = model.predict(user_data1)\n",
    "print(f\"Predicted resale price: {pred[0]:.2f} SGD\")"
   ]
  },
  {
   "cell_type": "markdown",
   "metadata": {},
   "source": [
    "PICKLING STANDARD SCALER AND ONE HOT ENCODER"
   ]
  },
  {
   "cell_type": "code",
   "execution_count": 208,
   "metadata": {},
   "outputs": [],
   "source": [
    "with open('scaler.pkl', 'wb') as file:\n",
    "        pickle.dump(scaler, file)\n",
    "with open('onehot_encoder.pkl', 'wb') as f2:\n",
    "        pickle.dump(ohe, f2)        "
   ]
  }
 ],
 "metadata": {
  "kernelspec": {
   "display_name": "Python 3",
   "language": "python",
   "name": "python3"
  },
  "language_info": {
   "codemirror_mode": {
    "name": "ipython",
    "version": 3
   },
   "file_extension": ".py",
   "mimetype": "text/x-python",
   "name": "python",
   "nbconvert_exporter": "python",
   "pygments_lexer": "ipython3",
   "version": "3.12.3"
  }
 },
 "nbformat": 4,
 "nbformat_minor": 2
}
